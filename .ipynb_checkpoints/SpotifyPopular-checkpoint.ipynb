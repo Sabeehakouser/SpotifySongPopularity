{
 "cells": [
  {
   "cell_type": "code",
   "execution_count": 2,
   "id": "40048bab",
   "metadata": {},
   "outputs": [],
   "source": [
    "import pandas as pd\n",
    "import numpy as np\n",
    "import matplotlib.pyplot as plt    # Plotting library for Python programming language and it's numerical mathematics extension NumPy\n",
    "import seaborn as sns              # Provides a high level interface for drawing attractive and informative statistical graphics\n"
   ]
  },
  {
   "cell_type": "code",
   "execution_count": 3,
   "id": "65941254",
   "metadata": {},
   "outputs": [
    {
     "ename": "FileNotFoundError",
     "evalue": "[Errno 2] No such file or directory: '\\\\A_Spotify\\\\songs_features.csv'",
     "output_type": "error",
     "traceback": [
      "\u001b[1;31m---------------------------------------------------------------------------\u001b[0m",
      "\u001b[1;31mFileNotFoundError\u001b[0m                         Traceback (most recent call last)",
      "\u001b[1;32m~\\AppData\\Local\\Temp\\ipykernel_21060\\750704681.py\u001b[0m in \u001b[0;36m<module>\u001b[1;34m\u001b[0m\n\u001b[1;32m----> 1\u001b[1;33m \u001b[0msongs\u001b[0m \u001b[1;33m=\u001b[0m \u001b[0mpd\u001b[0m\u001b[1;33m.\u001b[0m\u001b[0mread_csv\u001b[0m\u001b[1;33m(\u001b[0m\u001b[1;34m'\\\\A_Spotify\\\\songs_features.csv'\u001b[0m\u001b[1;33m)\u001b[0m\u001b[1;33m\u001b[0m\u001b[1;33m\u001b[0m\u001b[0m\n\u001b[0m\u001b[0;32m      2\u001b[0m \u001b[0msongs\u001b[0m\u001b[1;33m.\u001b[0m\u001b[0mshape\u001b[0m\u001b[1;33m\u001b[0m\u001b[1;33m\u001b[0m\u001b[0m\n",
      "\u001b[1;32mc:\\users\\nazishzaha shaik\\appdata\\local\\programs\\python\\python39\\lib\\site-packages\\pandas\\util\\_decorators.py\u001b[0m in \u001b[0;36mwrapper\u001b[1;34m(*args, **kwargs)\u001b[0m\n\u001b[0;32m    209\u001b[0m                 \u001b[1;32melse\u001b[0m\u001b[1;33m:\u001b[0m\u001b[1;33m\u001b[0m\u001b[1;33m\u001b[0m\u001b[0m\n\u001b[0;32m    210\u001b[0m                     \u001b[0mkwargs\u001b[0m\u001b[1;33m[\u001b[0m\u001b[0mnew_arg_name\u001b[0m\u001b[1;33m]\u001b[0m \u001b[1;33m=\u001b[0m \u001b[0mnew_arg_value\u001b[0m\u001b[1;33m\u001b[0m\u001b[1;33m\u001b[0m\u001b[0m\n\u001b[1;32m--> 211\u001b[1;33m             \u001b[1;32mreturn\u001b[0m \u001b[0mfunc\u001b[0m\u001b[1;33m(\u001b[0m\u001b[1;33m*\u001b[0m\u001b[0margs\u001b[0m\u001b[1;33m,\u001b[0m \u001b[1;33m**\u001b[0m\u001b[0mkwargs\u001b[0m\u001b[1;33m)\u001b[0m\u001b[1;33m\u001b[0m\u001b[1;33m\u001b[0m\u001b[0m\n\u001b[0m\u001b[0;32m    212\u001b[0m \u001b[1;33m\u001b[0m\u001b[0m\n\u001b[0;32m    213\u001b[0m         \u001b[1;32mreturn\u001b[0m \u001b[0mcast\u001b[0m\u001b[1;33m(\u001b[0m\u001b[0mF\u001b[0m\u001b[1;33m,\u001b[0m \u001b[0mwrapper\u001b[0m\u001b[1;33m)\u001b[0m\u001b[1;33m\u001b[0m\u001b[1;33m\u001b[0m\u001b[0m\n",
      "\u001b[1;32mc:\\users\\nazishzaha shaik\\appdata\\local\\programs\\python\\python39\\lib\\site-packages\\pandas\\util\\_decorators.py\u001b[0m in \u001b[0;36mwrapper\u001b[1;34m(*args, **kwargs)\u001b[0m\n\u001b[0;32m    329\u001b[0m                     \u001b[0mstacklevel\u001b[0m\u001b[1;33m=\u001b[0m\u001b[0mfind_stack_level\u001b[0m\u001b[1;33m(\u001b[0m\u001b[1;33m)\u001b[0m\u001b[1;33m,\u001b[0m\u001b[1;33m\u001b[0m\u001b[1;33m\u001b[0m\u001b[0m\n\u001b[0;32m    330\u001b[0m                 )\n\u001b[1;32m--> 331\u001b[1;33m             \u001b[1;32mreturn\u001b[0m \u001b[0mfunc\u001b[0m\u001b[1;33m(\u001b[0m\u001b[1;33m*\u001b[0m\u001b[0margs\u001b[0m\u001b[1;33m,\u001b[0m \u001b[1;33m**\u001b[0m\u001b[0mkwargs\u001b[0m\u001b[1;33m)\u001b[0m\u001b[1;33m\u001b[0m\u001b[1;33m\u001b[0m\u001b[0m\n\u001b[0m\u001b[0;32m    332\u001b[0m \u001b[1;33m\u001b[0m\u001b[0m\n\u001b[0;32m    333\u001b[0m         \u001b[1;31m# error: \"Callable[[VarArg(Any), KwArg(Any)], Any]\" has no\u001b[0m\u001b[1;33m\u001b[0m\u001b[1;33m\u001b[0m\u001b[1;33m\u001b[0m\u001b[0m\n",
      "\u001b[1;32mc:\\users\\nazishzaha shaik\\appdata\\local\\programs\\python\\python39\\lib\\site-packages\\pandas\\io\\parsers\\readers.py\u001b[0m in \u001b[0;36mread_csv\u001b[1;34m(filepath_or_buffer, sep, delimiter, header, names, index_col, usecols, squeeze, prefix, mangle_dupe_cols, dtype, engine, converters, true_values, false_values, skipinitialspace, skiprows, skipfooter, nrows, na_values, keep_default_na, na_filter, verbose, skip_blank_lines, parse_dates, infer_datetime_format, keep_date_col, date_parser, dayfirst, cache_dates, iterator, chunksize, compression, thousands, decimal, lineterminator, quotechar, quoting, doublequote, escapechar, comment, encoding, encoding_errors, dialect, error_bad_lines, warn_bad_lines, on_bad_lines, delim_whitespace, low_memory, memory_map, float_precision, storage_options)\u001b[0m\n\u001b[0;32m    948\u001b[0m     \u001b[0mkwds\u001b[0m\u001b[1;33m.\u001b[0m\u001b[0mupdate\u001b[0m\u001b[1;33m(\u001b[0m\u001b[0mkwds_defaults\u001b[0m\u001b[1;33m)\u001b[0m\u001b[1;33m\u001b[0m\u001b[1;33m\u001b[0m\u001b[0m\n\u001b[0;32m    949\u001b[0m \u001b[1;33m\u001b[0m\u001b[0m\n\u001b[1;32m--> 950\u001b[1;33m     \u001b[1;32mreturn\u001b[0m \u001b[0m_read\u001b[0m\u001b[1;33m(\u001b[0m\u001b[0mfilepath_or_buffer\u001b[0m\u001b[1;33m,\u001b[0m \u001b[0mkwds\u001b[0m\u001b[1;33m)\u001b[0m\u001b[1;33m\u001b[0m\u001b[1;33m\u001b[0m\u001b[0m\n\u001b[0m\u001b[0;32m    951\u001b[0m \u001b[1;33m\u001b[0m\u001b[0m\n\u001b[0;32m    952\u001b[0m \u001b[1;33m\u001b[0m\u001b[0m\n",
      "\u001b[1;32mc:\\users\\nazishzaha shaik\\appdata\\local\\programs\\python\\python39\\lib\\site-packages\\pandas\\io\\parsers\\readers.py\u001b[0m in \u001b[0;36m_read\u001b[1;34m(filepath_or_buffer, kwds)\u001b[0m\n\u001b[0;32m    603\u001b[0m \u001b[1;33m\u001b[0m\u001b[0m\n\u001b[0;32m    604\u001b[0m     \u001b[1;31m# Create the parser.\u001b[0m\u001b[1;33m\u001b[0m\u001b[1;33m\u001b[0m\u001b[1;33m\u001b[0m\u001b[0m\n\u001b[1;32m--> 605\u001b[1;33m     \u001b[0mparser\u001b[0m \u001b[1;33m=\u001b[0m \u001b[0mTextFileReader\u001b[0m\u001b[1;33m(\u001b[0m\u001b[0mfilepath_or_buffer\u001b[0m\u001b[1;33m,\u001b[0m \u001b[1;33m**\u001b[0m\u001b[0mkwds\u001b[0m\u001b[1;33m)\u001b[0m\u001b[1;33m\u001b[0m\u001b[1;33m\u001b[0m\u001b[0m\n\u001b[0m\u001b[0;32m    606\u001b[0m \u001b[1;33m\u001b[0m\u001b[0m\n\u001b[0;32m    607\u001b[0m     \u001b[1;32mif\u001b[0m \u001b[0mchunksize\u001b[0m \u001b[1;32mor\u001b[0m \u001b[0miterator\u001b[0m\u001b[1;33m:\u001b[0m\u001b[1;33m\u001b[0m\u001b[1;33m\u001b[0m\u001b[0m\n",
      "\u001b[1;32mc:\\users\\nazishzaha shaik\\appdata\\local\\programs\\python\\python39\\lib\\site-packages\\pandas\\io\\parsers\\readers.py\u001b[0m in \u001b[0;36m__init__\u001b[1;34m(self, f, engine, **kwds)\u001b[0m\n\u001b[0;32m   1440\u001b[0m \u001b[1;33m\u001b[0m\u001b[0m\n\u001b[0;32m   1441\u001b[0m         \u001b[0mself\u001b[0m\u001b[1;33m.\u001b[0m\u001b[0mhandles\u001b[0m\u001b[1;33m:\u001b[0m \u001b[0mIOHandles\u001b[0m \u001b[1;33m|\u001b[0m \u001b[1;32mNone\u001b[0m \u001b[1;33m=\u001b[0m \u001b[1;32mNone\u001b[0m\u001b[1;33m\u001b[0m\u001b[1;33m\u001b[0m\u001b[0m\n\u001b[1;32m-> 1442\u001b[1;33m         \u001b[0mself\u001b[0m\u001b[1;33m.\u001b[0m\u001b[0m_engine\u001b[0m \u001b[1;33m=\u001b[0m \u001b[0mself\u001b[0m\u001b[1;33m.\u001b[0m\u001b[0m_make_engine\u001b[0m\u001b[1;33m(\u001b[0m\u001b[0mf\u001b[0m\u001b[1;33m,\u001b[0m \u001b[0mself\u001b[0m\u001b[1;33m.\u001b[0m\u001b[0mengine\u001b[0m\u001b[1;33m)\u001b[0m\u001b[1;33m\u001b[0m\u001b[1;33m\u001b[0m\u001b[0m\n\u001b[0m\u001b[0;32m   1443\u001b[0m \u001b[1;33m\u001b[0m\u001b[0m\n\u001b[0;32m   1444\u001b[0m     \u001b[1;32mdef\u001b[0m \u001b[0mclose\u001b[0m\u001b[1;33m(\u001b[0m\u001b[0mself\u001b[0m\u001b[1;33m)\u001b[0m \u001b[1;33m->\u001b[0m \u001b[1;32mNone\u001b[0m\u001b[1;33m:\u001b[0m\u001b[1;33m\u001b[0m\u001b[1;33m\u001b[0m\u001b[0m\n",
      "\u001b[1;32mc:\\users\\nazishzaha shaik\\appdata\\local\\programs\\python\\python39\\lib\\site-packages\\pandas\\io\\parsers\\readers.py\u001b[0m in \u001b[0;36m_make_engine\u001b[1;34m(self, f, engine)\u001b[0m\n\u001b[0;32m   1733\u001b[0m                 \u001b[1;32mif\u001b[0m \u001b[1;34m\"b\"\u001b[0m \u001b[1;32mnot\u001b[0m \u001b[1;32min\u001b[0m \u001b[0mmode\u001b[0m\u001b[1;33m:\u001b[0m\u001b[1;33m\u001b[0m\u001b[1;33m\u001b[0m\u001b[0m\n\u001b[0;32m   1734\u001b[0m                     \u001b[0mmode\u001b[0m \u001b[1;33m+=\u001b[0m \u001b[1;34m\"b\"\u001b[0m\u001b[1;33m\u001b[0m\u001b[1;33m\u001b[0m\u001b[0m\n\u001b[1;32m-> 1735\u001b[1;33m             self.handles = get_handle(\n\u001b[0m\u001b[0;32m   1736\u001b[0m                 \u001b[0mf\u001b[0m\u001b[1;33m,\u001b[0m\u001b[1;33m\u001b[0m\u001b[1;33m\u001b[0m\u001b[0m\n\u001b[0;32m   1737\u001b[0m                 \u001b[0mmode\u001b[0m\u001b[1;33m,\u001b[0m\u001b[1;33m\u001b[0m\u001b[1;33m\u001b[0m\u001b[0m\n",
      "\u001b[1;32mc:\\users\\nazishzaha shaik\\appdata\\local\\programs\\python\\python39\\lib\\site-packages\\pandas\\io\\common.py\u001b[0m in \u001b[0;36mget_handle\u001b[1;34m(path_or_buf, mode, encoding, compression, memory_map, is_text, errors, storage_options)\u001b[0m\n\u001b[0;32m    854\u001b[0m         \u001b[1;32mif\u001b[0m \u001b[0mioargs\u001b[0m\u001b[1;33m.\u001b[0m\u001b[0mencoding\u001b[0m \u001b[1;32mand\u001b[0m \u001b[1;34m\"b\"\u001b[0m \u001b[1;32mnot\u001b[0m \u001b[1;32min\u001b[0m \u001b[0mioargs\u001b[0m\u001b[1;33m.\u001b[0m\u001b[0mmode\u001b[0m\u001b[1;33m:\u001b[0m\u001b[1;33m\u001b[0m\u001b[1;33m\u001b[0m\u001b[0m\n\u001b[0;32m    855\u001b[0m             \u001b[1;31m# Encoding\u001b[0m\u001b[1;33m\u001b[0m\u001b[1;33m\u001b[0m\u001b[1;33m\u001b[0m\u001b[0m\n\u001b[1;32m--> 856\u001b[1;33m             handle = open(\n\u001b[0m\u001b[0;32m    857\u001b[0m                 \u001b[0mhandle\u001b[0m\u001b[1;33m,\u001b[0m\u001b[1;33m\u001b[0m\u001b[1;33m\u001b[0m\u001b[0m\n\u001b[0;32m    858\u001b[0m                 \u001b[0mioargs\u001b[0m\u001b[1;33m.\u001b[0m\u001b[0mmode\u001b[0m\u001b[1;33m,\u001b[0m\u001b[1;33m\u001b[0m\u001b[1;33m\u001b[0m\u001b[0m\n",
      "\u001b[1;31mFileNotFoundError\u001b[0m: [Errno 2] No such file or directory: '\\\\A_Spotify\\\\songs_features.csv'"
     ]
    }
   ],
   "source": [
    "songs = pd.read_csv('c:\\\\\\\\A_Spotify\\\\songs_features.csv')\n",
    "songs.shape\n"
   ]
  },
  {
   "cell_type": "code",
   "execution_count": null,
   "id": "309e83f5",
   "metadata": {},
   "outputs": [],
   "source": [
    "songs.head(5)"
   ]
  },
  {
   "cell_type": "code",
   "execution_count": null,
   "id": "79f01d5a",
   "metadata": {
    "scrolled": true
   },
   "outputs": [],
   "source": [
    "songs.describe()"
   ]
  },
  {
   "cell_type": "code",
   "execution_count": null,
   "id": "12d3a308",
   "metadata": {},
   "outputs": [],
   "source": [
    "print(songs.keys())"
   ]
  },
  {
   "cell_type": "code",
   "execution_count": null,
   "id": "ddd56b12",
   "metadata": {},
   "outputs": [],
   "source": [
    "songs.isnull().sum()\n",
    "\n",
    "########################################### EDA ##############################################################\n",
    "\n",
    "sns.distplot(songs['popularity']).set_title('Popularity Distribution')\n"
   ]
  },
  {
   "cell_type": "code",
   "execution_count": null,
   "id": "f550050e",
   "metadata": {},
   "outputs": [],
   "source": [
    "songs.corr()"
   ]
  },
  {
   "cell_type": "code",
   "execution_count": null,
   "id": "ce800b1e",
   "metadata": {},
   "outputs": [],
   "source": [
    "plt.subplots(figsize = (15,8))\n",
    "sns.heatmap(songs.corr(), annot=True,cmap=\"PiYG\")\n",
    "plt.title(\"Correlations Among Features\", fontsize = 18)"
   ]
  },
  {
   "cell_type": "code",
   "execution_count": null,
   "id": "811b073d",
   "metadata": {},
   "outputs": [],
   "source": [
    "sns.barplot(x = 'time_signature', y = 'popularity', data = songs)\n",
    "plt.title('Popularity Based on Time Signature')"
   ]
  },
  {
   "cell_type": "code",
   "execution_count": null,
   "id": "a6cf8cd3",
   "metadata": {},
   "outputs": [],
   "source": [
    "sns.barplot(x = 'key', y = 'popularity', data = songs)\n",
    "plt.title('Popularity Based on Key')"
   ]
  },
  {
   "cell_type": "code",
   "execution_count": null,
   "id": "fddc497d",
   "metadata": {},
   "outputs": [],
   "source": [
    "sns.barplot(x = 'mode', y = 'popularity', data = songs)\n",
    "plt.title('Popularity Based on Mode')"
   ]
  },
  {
   "cell_type": "code",
   "execution_count": null,
   "id": "267526d1",
   "metadata": {},
   "outputs": [],
   "source": [
    "### Since key and mode are related (there can be A major or A minor), we combine those two features in another barplot using \"hue\"\n",
    "\n",
    "sns.barplot(x = 'mode', y = 'popularity', hue = 'key', data = songs)\n",
    "plt.title('Popularity Based on Mode and Key')"
   ]
  },
  {
   "cell_type": "code",
   "execution_count": null,
   "id": "f413a37c",
   "metadata": {},
   "outputs": [],
   "source": [
    "sns.jointplot(x = 'acousticness', y = 'popularity', data = songs)"
   ]
  },
  {
   "cell_type": "code",
   "execution_count": null,
   "id": "1ed9a98d",
   "metadata": {},
   "outputs": [],
   "source": [
    "sns.jointplot(x = 'loudness', y = 'popularity', data = songs)"
   ]
  },
  {
   "cell_type": "code",
   "execution_count": 15,
   "id": "335107e7",
   "metadata": {},
   "outputs": [
    {
     "name": "stderr",
     "output_type": "stream",
     "text": [
      "C:\\Users\\NAZISHZAHA SHAIK\\AppData\\Local\\Temp\\ipykernel_9796\\3232191110.py:2: UserWarning: \n",
      "\n",
      "`distplot` is a deprecated function and will be removed in seaborn v0.14.0.\n",
      "\n",
      "Please adapt your code to use either `displot` (a figure-level function with\n",
      "similar flexibility) or `histplot` (an axes-level function for histograms).\n",
      "\n",
      "For a guide to updating your code to use the new functions, please see\n",
      "https://gist.github.com/mwaskom/de44147ed2974457ad6372750bbe5751\n",
      "\n",
      "  sns.distplot(popular_above_50['acousticness'])\n"
     ]
    },
    {
     "data": {
      "text/plain": [
       "Text(0.5, 1.0, 'Acoustiness for Songs with More than 50 Popularity')"
      ]
     },
     "execution_count": 15,
     "metadata": {},
     "output_type": "execute_result"
    },
    {
     "data": {
      "image/png": "[encoded data removed]",
      "text/plain": [
       "<Figure size 432x288 with 1 Axes>"
      ]
     },
     "metadata": {
      "needs_background": "light"
     },
     "output_type": "display_data"
    }
   ],
   "source": [
    "popular_above_50 = songs[songs.popularity > 50]\n",
    "sns.distplot(popular_above_50['acousticness'])\n",
    "plt.title('Acoustiness for Songs with More than 50 Popularity')\n"
   ]
  },
  {
   "cell_type": "code",
   "execution_count": 16,
   "id": "59502f76",
   "metadata": {},
   "outputs": [
    {
     "name": "stderr",
     "output_type": "stream",
     "text": [
      "C:\\Users\\NAZISHZAHA SHAIK\\AppData\\Local\\Temp\\ipykernel_9796\\920211433.py:2: UserWarning: \n",
      "\n",
      "`distplot` is a deprecated function and will be removed in seaborn v0.14.0.\n",
      "\n",
      "Please adapt your code to use either `displot` (a figure-level function with\n",
      "similar flexibility) or `histplot` (an axes-level function for histograms).\n",
      "\n",
      "For a guide to updating your code to use the new functions, please see\n",
      "https://gist.github.com/mwaskom/de44147ed2974457ad6372750bbe5751\n",
      "\n",
      "  sns.distplot(popular_below_50['acousticness'])\n"
     ]
    },
    {
     "data": {
      "text/plain": [
       "Text(0.5, 1.0, 'Acoustiness for Songs with Less than 50 Popularity')"
      ]
     },
     "execution_count": 16,
     "metadata": {},
     "output_type": "execute_result"
    },
    {
     "data": {
      "image/png": "[encoded data removed]",
      "text/plain": [
       "<Figure size 432x288 with 1 Axes>"
      ]
     },
     "metadata": {
      "needs_background": "light"
     },
     "output_type": "display_data"
    }
   ],
   "source": [
    "popular_below_50 = songs[songs.popularity < 50]\n",
    "sns.distplot(popular_below_50['acousticness'])\n",
    "plt.title('Acoustiness for Songs with Less than 50 Popularity')"
   ]
  },
  {
   "cell_type": "code",
   "execution_count": 17,
   "id": "29bc3364",
   "metadata": {},
   "outputs": [
    {
     "name": "stderr",
     "output_type": "stream",
     "text": [
      "C:\\Users\\NAZISHZAHA SHAIK\\AppData\\Local\\Temp\\ipykernel_9796\\3960570231.py:1: UserWarning: \n",
      "\n",
      "`distplot` is a deprecated function and will be removed in seaborn v0.14.0.\n",
      "\n",
      "Please adapt your code to use either `displot` (a figure-level function with\n",
      "similar flexibility) or `histplot` (an axes-level function for histograms).\n",
      "\n",
      "For a guide to updating your code to use the new functions, please see\n",
      "https://gist.github.com/mwaskom/de44147ed2974457ad6372750bbe5751\n",
      "\n",
      "  sns.distplot(popular_above_50['loudness'])\n"
     ]
    },
    {
     "data": {
      "text/plain": [
       "Text(0.5, 1.0, 'Loudness for Songs with More than 50 Popularity')"
      ]
     },
     "execution_count": 17,
     "metadata": {},
     "output_type": "execute_result"
    },
    {
     "data": {
      "image/png": "[encoded data removed]",
      "text/plain": [
       "<Figure size 432x288 with 1 Axes>"
      ]
     },
     "metadata": {
      "needs_background": "light"
     },
     "output_type": "display_data"
    }
   ],
   "source": [
    "sns.distplot(popular_above_50['loudness'])\n",
    "plt.title('Loudness for Songs with More than 50 Popularity')"
   ]
  },
  {
   "cell_type": "code",
   "execution_count": 18,
   "id": "9d6cada2",
   "metadata": {},
   "outputs": [
    {
     "name": "stderr",
     "output_type": "stream",
     "text": [
      "C:\\Users\\NAZISHZAHA SHAIK\\AppData\\Local\\Temp\\ipykernel_9796\\2045954066.py:2: UserWarning: \n",
      "\n",
      "`distplot` is a deprecated function and will be removed in seaborn v0.14.0.\n",
      "\n",
      "Please adapt your code to use either `displot` (a figure-level function with\n",
      "similar flexibility) or `histplot` (an axes-level function for histograms).\n",
      "\n",
      "For a guide to updating your code to use the new functions, please see\n",
      "https://gist.github.com/mwaskom/de44147ed2974457ad6372750bbe5751\n",
      "\n",
      "  sns.distplot(popular_below_50['loudness'])\n"
     ]
    },
    {
     "data": {
      "text/plain": [
       "'\\n\\nFrom this analysis, the loudness and acousticness features have medium-weak correlations with popularity \\nFurthermore, the distributions of loudness and acousticness differ for songs with more than 50 popularity vs. songs with less than 50 popularity \\nWe plot a summary of all relationships between the features\\n\\n'"
      ]
     },
     "execution_count": 18,
     "metadata": {},
     "output_type": "execute_result"
    },
    {
     "data": {
      "image/png": "[encoded data removed]",
      "text/plain": [
       "<Figure size 432x288 with 1 Axes>"
      ]
     },
     "metadata": {
      "needs_background": "light"
     },
     "output_type": "display_data"
    }
   ],
   "source": [
    "popular_below_50 = songs[songs.popularity < 50]\n",
    "sns.distplot(popular_below_50['loudness'])\n",
    "plt.title('Loudness for Songs with Less than 50 Popularity')\n",
    "\n",
    "'''\n",
    "\n",
    "From this analysis, the loudness and acousticness features have medium-weak correlations with popularity \n",
    "Furthermore, the distributions of loudness and acousticness differ for songs with more than 50 popularity vs. songs with less than 50 popularity \n",
    "We plot a summary of all relationships between the features\n",
    "\n",
    "'''\n"
   ]
  },
  {
   "cell_type": "code",
   "execution_count": 19,
   "id": "2d8a7003",
   "metadata": {},
   "outputs": [
    {
     "data": {
      "text/html": [
       "<div>\n",
       "<style scoped>\n",
       "    .dataframe tbody tr th:only-of-type {\n",
       "        vertical-align: middle;\n",
       "    }\n",
       "\n",
       "    .dataframe tbody tr th {\n",
       "        vertical-align: top;\n",
       "    }\n",
       "\n",
       "    .dataframe thead th {\n",
       "        text-align: right;\n",
       "    }\n",
       "</style>\n",
       "<table border=\"1\" class=\"dataframe\">\n",
       "  <thead>\n",
       "    <tr style=\"text-align: right;\">\n",
       "      <th></th>\n",
       "      <th>song_title</th>\n",
       "      <th>artist</th>\n",
       "      <th>release</th>\n",
       "      <th>track_uri</th>\n",
       "      <th>spotify_id</th>\n",
       "      <th>duration</th>\n",
       "      <th>explicit</th>\n",
       "      <th>popularity</th>\n",
       "      <th>is_popular</th>\n",
       "      <th>album_type</th>\n",
       "      <th>...</th>\n",
       "      <th>key</th>\n",
       "      <th>loudness</th>\n",
       "      <th>mode</th>\n",
       "      <th>speechiness</th>\n",
       "      <th>acousticness</th>\n",
       "      <th>instrumentalness</th>\n",
       "      <th>liveness</th>\n",
       "      <th>valence</th>\n",
       "      <th>tempo</th>\n",
       "      <th>time_signature</th>\n",
       "    </tr>\n",
       "  </thead>\n",
       "  <tbody>\n",
       "    <tr>\n",
       "      <th>0</th>\n",
       "      <td>アイドル</td>\n",
       "      <td>YOASOBI</td>\n",
       "      <td>4/12/2023</td>\n",
       "      <td>7ovUcF5uHTBRzUpB6ZOmvt</td>\n",
       "      <td>7ovUcF5uHTBRzUpB6ZOmvt</td>\n",
       "      <td>213233</td>\n",
       "      <td>False</td>\n",
       "      <td>1</td>\n",
       "      <td>0</td>\n",
       "      <td>single</td>\n",
       "      <td>...</td>\n",
       "      <td>10</td>\n",
       "      <td>-2.783</td>\n",
       "      <td>1</td>\n",
       "      <td>0.0926</td>\n",
       "      <td>0.11200</td>\n",
       "      <td>0.000001</td>\n",
       "      <td>0.3670</td>\n",
       "      <td>0.836</td>\n",
       "      <td>166.008</td>\n",
       "      <td>0</td>\n",
       "    </tr>\n",
       "    <tr>\n",
       "      <th>1</th>\n",
       "      <td>strobo</td>\n",
       "      <td>Vaundy</td>\n",
       "      <td>5/27/2020</td>\n",
       "      <td>10zz9RZt9DnqcxNWksRNrx</td>\n",
       "      <td>10zz9RZt9DnqcxNWksRNrx</td>\n",
       "      <td>224806</td>\n",
       "      <td>False</td>\n",
       "      <td>1</td>\n",
       "      <td>0</td>\n",
       "      <td>album</td>\n",
       "      <td>...</td>\n",
       "      <td>1</td>\n",
       "      <td>-3.498</td>\n",
       "      <td>1</td>\n",
       "      <td>0.0540</td>\n",
       "      <td>0.00361</td>\n",
       "      <td>0.000000</td>\n",
       "      <td>0.3310</td>\n",
       "      <td>0.638</td>\n",
       "      <td>150.015</td>\n",
       "      <td>0</td>\n",
       "    </tr>\n",
       "    <tr>\n",
       "      <th>2</th>\n",
       "      <td>Subtitle</td>\n",
       "      <td>OFFICIAL HIGE DANDISM</td>\n",
       "      <td>10/12/2022</td>\n",
       "      <td>49F3htNmwzPKFycPdOrDvf</td>\n",
       "      <td>49F3htNmwzPKFycPdOrDvf</td>\n",
       "      <td>305509</td>\n",
       "      <td>False</td>\n",
       "      <td>1</td>\n",
       "      <td>0</td>\n",
       "      <td>single</td>\n",
       "      <td>...</td>\n",
       "      <td>2</td>\n",
       "      <td>-6.490</td>\n",
       "      <td>1</td>\n",
       "      <td>0.0424</td>\n",
       "      <td>0.03130</td>\n",
       "      <td>0.000000</td>\n",
       "      <td>0.1180</td>\n",
       "      <td>0.381</td>\n",
       "      <td>130.000</td>\n",
       "      <td>0</td>\n",
       "    </tr>\n",
       "    <tr>\n",
       "      <th>3</th>\n",
       "      <td>TATTOO</td>\n",
       "      <td>OFFICIAL HIGE DANDISM</td>\n",
       "      <td>4/21/2023</td>\n",
       "      <td>36jIu8oPR1Z4cguMuHxUXA</td>\n",
       "      <td>36jIu8oPR1Z4cguMuHxUXA</td>\n",
       "      <td>288099</td>\n",
       "      <td>False</td>\n",
       "      <td>1</td>\n",
       "      <td>0</td>\n",
       "      <td>single</td>\n",
       "      <td>...</td>\n",
       "      <td>10</td>\n",
       "      <td>-5.629</td>\n",
       "      <td>1</td>\n",
       "      <td>0.1630</td>\n",
       "      <td>0.01140</td>\n",
       "      <td>0.000000</td>\n",
       "      <td>0.3140</td>\n",
       "      <td>0.817</td>\n",
       "      <td>194.084</td>\n",
       "      <td>0</td>\n",
       "    </tr>\n",
       "    <tr>\n",
       "      <th>4</th>\n",
       "      <td>ケセラセラ</td>\n",
       "      <td>Mrs. GREEN APPLE</td>\n",
       "      <td>4/25/2023</td>\n",
       "      <td>406ZlqOP9nLQxJFBY7d9S4</td>\n",
       "      <td>406ZlqOP9nLQxJFBY7d9S4</td>\n",
       "      <td>272965</td>\n",
       "      <td>False</td>\n",
       "      <td>1</td>\n",
       "      <td>0</td>\n",
       "      <td>single</td>\n",
       "      <td>...</td>\n",
       "      <td>2</td>\n",
       "      <td>-4.574</td>\n",
       "      <td>0</td>\n",
       "      <td>0.0328</td>\n",
       "      <td>0.02900</td>\n",
       "      <td>0.000000</td>\n",
       "      <td>0.0367</td>\n",
       "      <td>0.698</td>\n",
       "      <td>115.010</td>\n",
       "      <td>0</td>\n",
       "    </tr>\n",
       "    <tr>\n",
       "      <th>...</th>\n",
       "      <td>...</td>\n",
       "      <td>...</td>\n",
       "      <td>...</td>\n",
       "      <td>...</td>\n",
       "      <td>...</td>\n",
       "      <td>...</td>\n",
       "      <td>...</td>\n",
       "      <td>...</td>\n",
       "      <td>...</td>\n",
       "      <td>...</td>\n",
       "      <td>...</td>\n",
       "      <td>...</td>\n",
       "      <td>...</td>\n",
       "      <td>...</td>\n",
       "      <td>...</td>\n",
       "      <td>...</td>\n",
       "      <td>...</td>\n",
       "      <td>...</td>\n",
       "      <td>...</td>\n",
       "      <td>...</td>\n",
       "      <td>...</td>\n",
       "    </tr>\n",
       "    <tr>\n",
       "      <th>859</th>\n",
       "      <td>好きだから。</td>\n",
       "      <td>『ユイカ』</td>\n",
       "      <td>6/27/2021</td>\n",
       "      <td>02xwA3Ej9NPetftp9V7VZ3</td>\n",
       "      <td>02xwA3Ej9NPetftp9V7VZ3</td>\n",
       "      <td>298663</td>\n",
       "      <td>False</td>\n",
       "      <td>1</td>\n",
       "      <td>0</td>\n",
       "      <td>single</td>\n",
       "      <td>...</td>\n",
       "      <td>10</td>\n",
       "      <td>-6.363</td>\n",
       "      <td>1</td>\n",
       "      <td>0.0311</td>\n",
       "      <td>0.23900</td>\n",
       "      <td>0.000004</td>\n",
       "      <td>0.3130</td>\n",
       "      <td>0.714</td>\n",
       "      <td>164.993</td>\n",
       "      <td>0</td>\n",
       "    </tr>\n",
       "    <tr>\n",
       "      <th>872</th>\n",
       "      <td>One Last Kiss</td>\n",
       "      <td>Hikaru Utada</td>\n",
       "      <td>3/9/2021</td>\n",
       "      <td>5RhWszHMSKzb7KiXk4Ae0M</td>\n",
       "      <td>5RhWszHMSKzb7KiXk4Ae0M</td>\n",
       "      <td>252026</td>\n",
       "      <td>False</td>\n",
       "      <td>1</td>\n",
       "      <td>0</td>\n",
       "      <td>single</td>\n",
       "      <td>...</td>\n",
       "      <td>11</td>\n",
       "      <td>-11.249</td>\n",
       "      <td>0</td>\n",
       "      <td>0.0587</td>\n",
       "      <td>0.69200</td>\n",
       "      <td>0.001870</td>\n",
       "      <td>0.0965</td>\n",
       "      <td>0.354</td>\n",
       "      <td>111.955</td>\n",
       "      <td>0</td>\n",
       "    </tr>\n",
       "    <tr>\n",
       "      <th>920</th>\n",
       "      <td>花に亡霊</td>\n",
       "      <td>ヨルシカ</td>\n",
       "      <td>4/22/2020</td>\n",
       "      <td>53maoOKr6j04iqk6qjdvQN</td>\n",
       "      <td>53maoOKr6j04iqk6qjdvQN</td>\n",
       "      <td>240120</td>\n",
       "      <td>False</td>\n",
       "      <td>1</td>\n",
       "      <td>0</td>\n",
       "      <td>single</td>\n",
       "      <td>...</td>\n",
       "      <td>6</td>\n",
       "      <td>-6.808</td>\n",
       "      <td>1</td>\n",
       "      <td>0.0460</td>\n",
       "      <td>0.69600</td>\n",
       "      <td>0.000000</td>\n",
       "      <td>0.0761</td>\n",
       "      <td>0.460</td>\n",
       "      <td>89.961</td>\n",
       "      <td>0</td>\n",
       "    </tr>\n",
       "    <tr>\n",
       "      <th>959</th>\n",
       "      <td>ぐらでーしょん</td>\n",
       "      <td>KANA-BOON</td>\n",
       "      <td>4/2/2023</td>\n",
       "      <td>7a0XxV7vR9HwvbdhwQ5KSE</td>\n",
       "      <td>7a0XxV7vR9HwvbdhwQ5KSE</td>\n",
       "      <td>197944</td>\n",
       "      <td>False</td>\n",
       "      <td>1</td>\n",
       "      <td>0</td>\n",
       "      <td>single</td>\n",
       "      <td>...</td>\n",
       "      <td>2</td>\n",
       "      <td>-4.043</td>\n",
       "      <td>1</td>\n",
       "      <td>0.0333</td>\n",
       "      <td>0.00971</td>\n",
       "      <td>0.000000</td>\n",
       "      <td>0.1870</td>\n",
       "      <td>0.802</td>\n",
       "      <td>144.941</td>\n",
       "      <td>0</td>\n",
       "    </tr>\n",
       "    <tr>\n",
       "      <th>979</th>\n",
       "      <td>BADモード</td>\n",
       "      <td>Hikaru Utada</td>\n",
       "      <td>1/19/2022</td>\n",
       "      <td>6DaKMsQDmHMJbKYyU7AUFA</td>\n",
       "      <td>6DaKMsQDmHMJbKYyU7AUFA</td>\n",
       "      <td>249904</td>\n",
       "      <td>False</td>\n",
       "      <td>1</td>\n",
       "      <td>0</td>\n",
       "      <td>album</td>\n",
       "      <td>...</td>\n",
       "      <td>11</td>\n",
       "      <td>-10.703</td>\n",
       "      <td>0</td>\n",
       "      <td>0.0563</td>\n",
       "      <td>0.69800</td>\n",
       "      <td>0.002640</td>\n",
       "      <td>0.0986</td>\n",
       "      <td>0.397</td>\n",
       "      <td>111.985</td>\n",
       "      <td>0</td>\n",
       "    </tr>\n",
       "  </tbody>\n",
       "</table>\n",
       "<p>490 rows × 22 columns</p>\n",
       "</div>"
      ],
      "text/plain": [
       "        song_title                 artist     release               track_uri  \\\n",
       "0             アイドル                YOASOBI   4/12/2023  7ovUcF5uHTBRzUpB6ZOmvt   \n",
       "1           strobo                 Vaundy   5/27/2020  10zz9RZt9DnqcxNWksRNrx   \n",
       "2         Subtitle  OFFICIAL HIGE DANDISM  10/12/2022  49F3htNmwzPKFycPdOrDvf   \n",
       "3           TATTOO  OFFICIAL HIGE DANDISM   4/21/2023  36jIu8oPR1Z4cguMuHxUXA   \n",
       "4            ケセラセラ       Mrs. GREEN APPLE   4/25/2023  406ZlqOP9nLQxJFBY7d9S4   \n",
       "..             ...                    ...         ...                     ...   \n",
       "859         好きだから。                  『ユイカ』   6/27/2021  02xwA3Ej9NPetftp9V7VZ3   \n",
       "872  One Last Kiss           Hikaru Utada    3/9/2021  5RhWszHMSKzb7KiXk4Ae0M   \n",
       "920           花に亡霊                   ヨルシカ   4/22/2020  53maoOKr6j04iqk6qjdvQN   \n",
       "959        ぐらでーしょん              KANA-BOON    4/2/2023  7a0XxV7vR9HwvbdhwQ5KSE   \n",
       "979         BADモード           Hikaru Utada   1/19/2022  6DaKMsQDmHMJbKYyU7AUFA   \n",
       "\n",
       "                 spotify_id  duration  explicit  popularity  is_popular  \\\n",
       "0    7ovUcF5uHTBRzUpB6ZOmvt    213233     False           1           0   \n",
       "1    10zz9RZt9DnqcxNWksRNrx    224806     False           1           0   \n",
       "2    49F3htNmwzPKFycPdOrDvf    305509     False           1           0   \n",
       "3    36jIu8oPR1Z4cguMuHxUXA    288099     False           1           0   \n",
       "4    406ZlqOP9nLQxJFBY7d9S4    272965     False           1           0   \n",
       "..                      ...       ...       ...         ...         ...   \n",
       "859  02xwA3Ej9NPetftp9V7VZ3    298663     False           1           0   \n",
       "872  5RhWszHMSKzb7KiXk4Ae0M    252026     False           1           0   \n",
       "920  53maoOKr6j04iqk6qjdvQN    240120     False           1           0   \n",
       "959  7a0XxV7vR9HwvbdhwQ5KSE    197944     False           1           0   \n",
       "979  6DaKMsQDmHMJbKYyU7AUFA    249904     False           1           0   \n",
       "\n",
       "    album_type  ...  key  loudness  mode  speechiness  acousticness  \\\n",
       "0       single  ...   10    -2.783     1       0.0926       0.11200   \n",
       "1        album  ...    1    -3.498     1       0.0540       0.00361   \n",
       "2       single  ...    2    -6.490     1       0.0424       0.03130   \n",
       "3       single  ...   10    -5.629     1       0.1630       0.01140   \n",
       "4       single  ...    2    -4.574     0       0.0328       0.02900   \n",
       "..         ...  ...  ...       ...   ...          ...           ...   \n",
       "859     single  ...   10    -6.363     1       0.0311       0.23900   \n",
       "872     single  ...   11   -11.249     0       0.0587       0.69200   \n",
       "920     single  ...    6    -6.808     1       0.0460       0.69600   \n",
       "959     single  ...    2    -4.043     1       0.0333       0.00971   \n",
       "979      album  ...   11   -10.703     0       0.0563       0.69800   \n",
       "\n",
       "     instrumentalness  liveness  valence    tempo  time_signature  \n",
       "0            0.000001    0.3670    0.836  166.008               0  \n",
       "1            0.000000    0.3310    0.638  150.015               0  \n",
       "2            0.000000    0.1180    0.381  130.000               0  \n",
       "3            0.000000    0.3140    0.817  194.084               0  \n",
       "4            0.000000    0.0367    0.698  115.010               0  \n",
       "..                ...       ...      ...      ...             ...  \n",
       "859          0.000004    0.3130    0.714  164.993               0  \n",
       "872          0.001870    0.0965    0.354  111.955               0  \n",
       "920          0.000000    0.0761    0.460   89.961               0  \n",
       "959          0.000000    0.1870    0.802  144.941               0  \n",
       "979          0.002640    0.0986    0.397  111.985               0  \n",
       "\n",
       "[490 rows x 22 columns]"
      ]
     },
     "execution_count": 19,
     "metadata": {},
     "output_type": "execute_result"
    }
   ],
   "source": [
    "####################################### Feature Engineering ##################################################\n",
    "\n",
    "'''\n",
    "\n",
    "There are 3 categorical variables (key, mode, and time signature) that need to be converted from text to numbers \n",
    "using one-hot-encoding. We also define popularity as a binary variable. \n",
    "For our purposes, we will define above 57 as \"popular\" since that's the border of the top 25% of songs and \n",
    "encode that as 1, and below 57 as \"not popular\" and encode that as 0.\n",
    "\n",
    "'''\n",
    "\n",
    "### Key: Since there are 12 letter keys (not distinguishing between major and minor), \n",
    "### we will convert A to 0, A# to 1, and so on and so forth until B is 12.\n",
    "\n",
    "list_of_keys = songs['key'].unique()\n",
    "for i in range(len(list_of_keys)):\n",
    "    songs.loc[songs['key'] == list_of_keys[i], 'key'] = i\n",
    "songs.sample(5)\n",
    "\n",
    "\n",
    "\n",
    "####################################### Model Implementation ##################################################"
   ]
  },
  {
   "cell_type": "code",
   "execution_count": 4,
   "id": "1b57a1ec",
   "metadata": {},
   "outputs": [
    {
     "ename": "NameError",
     "evalue": "name 'songs' is not defined",
     "output_type": "error",
     "traceback": [
      "\u001b[1;31m---------------------------------------------------------------------------\u001b[0m",
      "\u001b[1;31mNameError\u001b[0m                                 Traceback (most recent call last)",
      "\u001b[1;32m~\\AppData\\Local\\Temp\\ipykernel_21060\\2022153356.py\u001b[0m in \u001b[0;36m<module>\u001b[1;34m\u001b[0m\n\u001b[1;32m----> 1\u001b[1;33m \u001b[0msongs\u001b[0m\u001b[1;33m.\u001b[0m\u001b[0mloc\u001b[0m\u001b[1;33m[\u001b[0m\u001b[0msongs\u001b[0m\u001b[1;33m[\u001b[0m\u001b[1;34m\"mode\"\u001b[0m\u001b[1;33m]\u001b[0m \u001b[1;33m==\u001b[0m \u001b[1;34m'Major'\u001b[0m\u001b[1;33m,\u001b[0m \u001b[1;34m\"mode\"\u001b[0m\u001b[1;33m]\u001b[0m \u001b[1;33m=\u001b[0m \u001b[1;36m1\u001b[0m\u001b[1;33m\u001b[0m\u001b[1;33m\u001b[0m\u001b[0m\n\u001b[0m\u001b[0;32m      2\u001b[0m \u001b[0msongs\u001b[0m\u001b[1;33m.\u001b[0m\u001b[0mloc\u001b[0m\u001b[1;33m[\u001b[0m\u001b[0msongs\u001b[0m\u001b[1;33m[\u001b[0m\u001b[1;34m\"mode\"\u001b[0m\u001b[1;33m]\u001b[0m \u001b[1;33m==\u001b[0m \u001b[1;34m'Minor'\u001b[0m\u001b[1;33m,\u001b[0m \u001b[1;34m\"mode\"\u001b[0m\u001b[1;33m]\u001b[0m \u001b[1;33m=\u001b[0m \u001b[1;36m0\u001b[0m\u001b[1;33m\u001b[0m\u001b[1;33m\u001b[0m\u001b[0m\n\u001b[0;32m      3\u001b[0m \u001b[0msongs\u001b[0m\u001b[1;33m.\u001b[0m\u001b[0msample\u001b[0m\u001b[1;33m(\u001b[0m\u001b[1;36m5\u001b[0m\u001b[1;33m)\u001b[0m\u001b[1;33m\u001b[0m\u001b[1;33m\u001b[0m\u001b[0m\n",
      "\u001b[1;31mNameError\u001b[0m: name 'songs' is not defined"
     ]
    }
   ],
   "source": [
    "songs.loc[songs[\"mode\"] == 'Major', \"mode\"] = 1\n",
    "songs.loc[songs[\"mode\"] == 'Minor', \"mode\"] = 0\n",
    "songs.sample(5)"
   ]
  },
  {
   "cell_type": "code",
   "execution_count": null,
   "id": "49131432",
   "metadata": {},
   "outputs": [],
   "source": [
    "list_of_time_signatures = songs['time_signature'].unique()\n",
    "for i in range(len(list_of_time_signatures)):\n",
    "    songs.loc[songs['time_signature'] == list_of_time_signatures[i], 'time_signature'] = i\n",
    "songs.sample(5)\n",
    "\n",
    "songs.loc[songs['popularity'] < 50, 'popularity'] = 0 \n",
    "songs.loc[songs['popularity'] >= 50, 'popularity'] = 1\n",
    "songs.loc[songs['popularity'] == 1]"
   ]
  },
  {
   "cell_type": "code",
   "execution_count": 20,
   "id": "e957b4fe",
   "metadata": {},
   "outputs": [],
   "source": [
    "from sklearn.linear_model import LogisticRegression\n",
    "from sklearn.ensemble import RandomForestClassifier\n",
    "from sklearn.neighbors import KNeighborsClassifier\n",
    "from sklearn.tree import DecisionTreeClassifier\n",
    "from xgboost import XGBClassifier\n",
    "\n",
    "from sklearn.metrics import make_scorer, accuracy_score, roc_auc_score \n",
    "from sklearn.model_selection import GridSearchCV\n",
    "from sklearn.model_selection import train_test_split\n",
    "\n",
    "'''\n",
    "For feature selection, we will select the following features which are only based on music theory and \n",
    "not artist/song information: acousticness, danceability, duration_ms, energy, instrumentalness, key, \n",
    "liveliness, loudness, mode, speeciness, tempo, time_signature, and valence.\n",
    "'''\n",
    "\n",
    "features = [\"acousticness\", \"danceability\", \"duration\", \"energy\", \"instrumentalness\", \"key\", \"liveness\", \n",
    "            \"mode\", \"speechiness\", \"tempo\", \"time_signature\", \"valence\"]\n",
    "\n"
   ]
  },
  {
   "cell_type": "code",
   "execution_count": 21,
   "id": "1a21fd6b",
   "metadata": {},
   "outputs": [],
   "source": [
    "training = songs.sample(frac = 0.8,random_state = 420)\n",
    "X_train = training[features]\n",
    "y_train = training['popularity']\n",
    "X_test = songs.drop(training.index)[features]\n",
    "\n",
    "X_train, X_valid, y_train, y_valid = train_test_split(X_train, y_train, test_size = 0.2, random_state = 420)"
   ]
  },
  {
   "cell_type": "code",
   "execution_count": 22,
   "id": "0b51cc43",
   "metadata": {},
   "outputs": [
    {
     "name": "stdout",
     "output_type": "stream",
     "text": [
      "Accuracy: 0.50625\n",
      "AUC: 0.5\n"
     ]
    }
   ],
   "source": [
    "LR_Model = LogisticRegression()\n",
    "LR_Model.fit(X_train, y_train)\n",
    "LR_Predict = LR_Model.predict(X_valid)\n",
    "LR_Accuracy = accuracy_score(y_valid, LR_Predict)\n",
    "print(\"Accuracy: \" + str(LR_Accuracy))\n",
    "\n",
    "LR_AUC = roc_auc_score(y_valid, LR_Predict) \n",
    "print(\"AUC: \" + str(LR_AUC))"
   ]
  },
  {
   "cell_type": "code",
   "execution_count": 23,
   "id": "bd84b613",
   "metadata": {},
   "outputs": [
    {
     "name": "stdout",
     "output_type": "stream",
     "text": [
      "Accuracy: 0.54375\n",
      "AUC: 0.5432880137521487\n"
     ]
    }
   ],
   "source": [
    "RFC_Model = RandomForestClassifier()\n",
    "RFC_Model.fit(X_train, y_train)\n",
    "RFC_Predict = RFC_Model.predict(X_valid)\n",
    "RFC_Accuracy = accuracy_score(y_valid, RFC_Predict)\n",
    "print(\"Accuracy: \" + str(RFC_Accuracy))\n",
    "\n",
    "RFC_AUC = roc_auc_score(y_valid, RFC_Predict) \n",
    "print(\"AUC: \" + str(RFC_AUC))"
   ]
  },
  {
   "cell_type": "code",
   "execution_count": 24,
   "id": "030cc528",
   "metadata": {},
   "outputs": [
    {
     "name": "stdout",
     "output_type": "stream",
     "text": [
      "Accuracy: 0.46875\n",
      "AUC: 0.4681200187529302\n"
     ]
    }
   ],
   "source": [
    "KNN_Model = KNeighborsClassifier()\n",
    "KNN_Model.fit(X_train, y_train)\n",
    "KNN_Predict = KNN_Model.predict(X_valid)\n",
    "KNN_Accuracy = accuracy_score(y_valid, KNN_Predict)\n",
    "print(\"Accuracy: \" + str(KNN_Accuracy))\n",
    "\n",
    "KNN_AUC = roc_auc_score(y_valid, KNN_Predict) \n",
    "print(\"AUC: \" + str(KNN_AUC))"
   ]
  },
  {
   "cell_type": "code",
   "execution_count": 25,
   "id": "e54f793c",
   "metadata": {},
   "outputs": [
    {
     "name": "stdout",
     "output_type": "stream",
     "text": [
      "Accuracy: 0.49375\n",
      "AUC: 0.4940615721206439\n"
     ]
    }
   ],
   "source": [
    "DT_Model = DecisionTreeClassifier()\n",
    "DT_Model.fit(X_train, y_train)\n",
    "DT_Predict = DT_Model.predict(X_valid)\n",
    "DT_Accuracy = accuracy_score(y_valid, DT_Predict)\n",
    "print(\"Accuracy: \" + str(DT_Accuracy))\n",
    "\n",
    "DT_AUC = roc_auc_score(y_valid, DT_Predict) \n",
    "print(\"AUC: \" + str(DT_AUC))"
   ]
  },
  {
   "cell_type": "code",
   "execution_count": 26,
   "id": "d0c72dd1",
   "metadata": {},
   "outputs": [
    {
     "name": "stdout",
     "output_type": "stream",
     "text": [
      "Accuracy: 0.54375\n",
      "AUC: 0.5432880137521487\n"
     ]
    }
   ],
   "source": [
    "XGB_Model = XGBClassifier(objective = \"binary:logistic\", n_estimators = 10, seed = 123)\n",
    "XGB_Model.fit(X_train, y_train)\n",
    "XGB_Predict = XGB_Model.predict(X_valid)\n",
    "XGB_Accuracy = accuracy_score(y_valid, XGB_Predict)\n",
    "print(\"Accuracy: \" + str(XGB_Accuracy))\n",
    "\n",
    "XGB_AUC = roc_auc_score(y_valid, XGB_Predict) \n",
    "print(\"AUC: \" + str(XGB_AUC))"
   ]
  },
  {
   "cell_type": "code",
   "execution_count": 27,
   "id": "69901f9f",
   "metadata": {},
   "outputs": [],
   "source": [
    "model_performance_accuracy = pd.DataFrame({'Model': ['LogisticRegression', \n",
    "                                                      'RandomForestClassifier', \n",
    "                                                      'KNeighborsClassifier',\n",
    "                                                      'DecisionTreeClassifier',\n",
    "                                                      'XGBClassifier'],\n",
    "                                            'Accuracy': [LR_Accuracy,\n",
    "                                                         RFC_Accuracy,\n",
    "                                                         KNN_Accuracy,\n",
    "                                                         DT_Accuracy,\n",
    "                                                         XGB_Accuracy]})\n",
    "\n",
    "model_performance_AUC = pd.DataFrame({'Model': ['LogisticRegression', \n",
    "                                                      'RandomForestClassifier', \n",
    "                                                      'KNeighborsClassifier',\n",
    "                                                      'DecisionTreeClassifier',\n",
    "                                                      'XGBClassifier'],\n",
    "                                            'AUC': [LR_AUC,\n",
    "                                                         RFC_AUC,\n",
    "                                                         KNN_AUC,\n",
    "                                                         DT_AUC,\n",
    "                                                         XGB_AUC]})\n",
    "\n"
   ]
  },
  {
   "cell_type": "code",
   "execution_count": 28,
   "id": "fb67867b",
   "metadata": {},
   "outputs": [
    {
     "data": {
      "text/html": [
       "<div>\n",
       "<style scoped>\n",
       "    .dataframe tbody tr th:only-of-type {\n",
       "        vertical-align: middle;\n",
       "    }\n",
       "\n",
       "    .dataframe tbody tr th {\n",
       "        vertical-align: top;\n",
       "    }\n",
       "\n",
       "    .dataframe thead th {\n",
       "        text-align: right;\n",
       "    }\n",
       "</style>\n",
       "<table border=\"1\" class=\"dataframe\">\n",
       "  <thead>\n",
       "    <tr style=\"text-align: right;\">\n",
       "      <th></th>\n",
       "      <th>Model</th>\n",
       "      <th>AUC</th>\n",
       "    </tr>\n",
       "  </thead>\n",
       "  <tbody>\n",
       "    <tr>\n",
       "      <th>1</th>\n",
       "      <td>RandomForestClassifier</td>\n",
       "      <td>0.543288</td>\n",
       "    </tr>\n",
       "    <tr>\n",
       "      <th>4</th>\n",
       "      <td>XGBClassifier</td>\n",
       "      <td>0.543288</td>\n",
       "    </tr>\n",
       "    <tr>\n",
       "      <th>0</th>\n",
       "      <td>LogisticRegression</td>\n",
       "      <td>0.500000</td>\n",
       "    </tr>\n",
       "    <tr>\n",
       "      <th>3</th>\n",
       "      <td>DecisionTreeClassifier</td>\n",
       "      <td>0.494062</td>\n",
       "    </tr>\n",
       "    <tr>\n",
       "      <th>2</th>\n",
       "      <td>KNeighborsClassifier</td>\n",
       "      <td>0.468120</td>\n",
       "    </tr>\n",
       "  </tbody>\n",
       "</table>\n",
       "</div>"
      ],
      "text/plain": [
       "                    Model       AUC\n",
       "1  RandomForestClassifier  0.543288\n",
       "4           XGBClassifier  0.543288\n",
       "0      LogisticRegression  0.500000\n",
       "3  DecisionTreeClassifier  0.494062\n",
       "2    KNeighborsClassifier  0.468120"
      ]
     },
     "execution_count": 28,
     "metadata": {},
     "output_type": "execute_result"
    }
   ],
   "source": [
    "model_performance_accuracy.sort_values(by = \"Accuracy\", ascending = False)\n",
    "\n",
    "model_performance_AUC.sort_values(by = \"AUC\", ascending = False)"
   ]
  },
  {
   "cell_type": "code",
   "execution_count": 31,
   "id": "b41fd29f",
   "metadata": {},
   "outputs": [],
   "source": [
    "import tkinter as tk\n",
    "from tkinter import Label, Entry, Button, StringVar, OptionMenu\n",
    "\n",
    "# Load your dataset and perform necessary preprocessing\n",
    "\n",
    "class SongPopularityPredictorGUI:\n",
    "    def __init__(self, root, song_list):\n",
    "        self.root = root\n",
    "        self.root.title(\"Song Popularity Predictor\")\n",
    "\n",
    "        self.song_name_label = Label(root, text=\"Select Song:\")\n",
    "        self.song_name_label.pack()\n",
    "\n",
    "        self.song_name_var = StringVar()\n",
    "        self.song_name_option = OptionMenu(root, self.song_name_var, *song_list)\n",
    "        self.song_name_option.pack()\n",
    "\n",
    "        self.result_label = Label(root, text=\"\")\n",
    "        self.result_label.pack()\n",
    "\n",
    "        self.predict_button = Button(root, text=\"Predict Popularity\", command=self.predict)\n",
    "        self.predict_button.pack()\n",
    "\n",
    "    def predict(self):\n",
    "        song_name = self.song_name_var.get()\n",
    "        song_features = self.get_features_for_song(song_name)\n",
    "        if song_features is not None:\n",
    "            prediction = LR_Model.predict([song_features])[0]\n",
    "            if prediction == 1:\n",
    "                result = \"Popular\"\n",
    "            else:\n",
    "                result = \"Not Popular\"\n",
    "            self.result_label.config(text=f\"Prediction: {result}\")\n",
    "        else:\n",
    "            self.result_label.config(text=\"Song not found.\")\n",
    "\n",
    "    def get_features_for_song(self, song_name):\n",
    "        song_data = songs[songs['song_title'] == song_name]\n",
    "        if not song_data.empty:\n",
    "            song_features = song_data[features].values[0]\n",
    "            return song_features\n",
    "        else:\n",
    "            return None"
   ]
  },
  {
   "cell_type": "code",
   "execution_count": 32,
   "id": "6722c39b",
   "metadata": {},
   "outputs": [
    {
     "name": "stderr",
     "output_type": "stream",
     "text": [
      "c:\\users\\nazishzaha shaik\\appdata\\local\\programs\\python\\python39\\lib\\site-packages\\sklearn\\base.py:439: UserWarning: X does not have valid feature names, but LogisticRegression was fitted with feature names\n",
      "  warnings.warn(\n"
     ]
    }
   ],
   "source": [
    "song_list = songs['song_title'].tolist()\n",
    "\n",
    "\n",
    "# Create the main window\n",
    "root = tk.Tk()\n",
    "app = SongPopularityPredictorGUI(root, song_list)\n",
    "\n",
    "# Start the GUI event loop\n",
    "root.mainloop()"
   ]
  },
  {
   "cell_type": "code",
   "execution_count": null,
   "id": "dc186cde",
   "metadata": {},
   "outputs": [],
   "source": []
  },
  {
   "cell_type": "code",
   "execution_count": null,
   "id": "ae3672ad",
   "metadata": {},
   "outputs": [],
   "source": []
  }
 ],
 "metadata": {
  "kernelspec": {
   "display_name": "Python 3 (ipykernel)",
   "language": "python",
   "name": "python3"
  },
  "language_info": {
   "codemirror_mode": {
    "name": "ipython",
    "version": 3
   },
   "file_extension": ".py",
   "mimetype": "text/x-python",
   "name": "python",
   "nbconvert_exporter": "python",
   "pygments_lexer": "ipython3",
   "version": "3.9.5"
  }
 },
 "nbformat": 4,
 "nbformat_minor": 5
}
